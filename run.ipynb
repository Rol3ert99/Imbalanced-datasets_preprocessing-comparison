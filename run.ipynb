{
 "cells": [
  {
   "cell_type": "code",
   "execution_count": null,
   "metadata": {},
   "outputs": [],
   "source": [
    "import numpy as np\n",
    "from sklearn.neighbors import NearestNeighbors"
   ]
  },
  {
   "cell_type": "code",
   "execution_count": null,
   "metadata": {},
   "outputs": [],
   "source": [
    "def classify_examples(X, Y, k = 3):\n",
    "    \"\"\"\n",
    "    Classify examples as noisy or safe based on their k nearest neigbors.\n",
    "\n",
    "    Args:\n",
    "        X (numpy.ndarray): The feature matrix of shape (n_samples, n_features)\n",
    "        Y (numpy.ndarray): The target labels of shape(n_samples,)\n",
    "        k (int, optional): The number of nearest neighbors to consider, defaults to 3\n",
    "    \n",
    "    Returns:\n",
    "        numpy.ndarray: An array of flags indicating the type of each example (0 for safe, 1 for noisy)\n",
    "    \"\"\"\n",
    "    n_samples = X.shape[0]\n",
    "    flags = np.zeros(n_samples, dtype=int)  # Intialize flags for all examples as safe\n",
    "\n",
    "    # Fit a k-nearest neighbors model\n",
    "    nn = NearestNeighbors(n_neighbors=k)\n",
    "    nn.fit(X)\n",
    "\n",
    "    for i in range(n_samples):\n",
    "        example = X[i]\n",
    "        label = Y[i]\n",
    "\n",
    "        # Find the indices of the k nearest neigbors\n",
    "        indices = nn.kneighbors([example], return_distance=False)\n",
    "\n",
    "        # Exclude the current example itself from the neigbors\n",
    "        neighbors_indices = indices[0][1:]\n",
    "\n",
    "        # Check if the majority of neighbors have the same label as the current example\n",
    "        if np.sum(Y[neighbors_indices] == label) >= k // 2:\n",
    "            flags[i] = 0    # Set flag as safe\n",
    "        else:\n",
    "            flags[i] = 1    # Set flag as noisy\n",
    "    return flags"
   ]
  },
  {
   "cell_type": "code",
   "execution_count": null,
   "metadata": {},
   "outputs": [],
   "source": [
    "\n",
    "X = np.array([[1, 2], [3, 4], [5, 6], [7, 8]])\n",
    "y = np.array([0, 1, 1, 1])\n",
    "classify_examples(X, y, k=3)"
   ]
  }
 ],
 "metadata": {
  "kernelspec": {
   "display_name": "Python 3",
   "language": "python",
   "name": "python3"
  },
  "language_info": {
   "codemirror_mode": {
    "name": "ipython",
    "version": 3
   },
   "file_extension": ".py",
   "mimetype": "text/x-python",
   "name": "python",
   "nbconvert_exporter": "python",
   "pygments_lexer": "ipython3",
   "version": "3.10.5"
  },
  "orig_nbformat": 4
 },
 "nbformat": 4,
 "nbformat_minor": 2
}
