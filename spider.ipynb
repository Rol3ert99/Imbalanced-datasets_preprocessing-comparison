{
 "cells": [
  {
   "cell_type": "code",
   "execution_count": 8,
   "metadata": {},
   "outputs": [],
   "source": [
    "import numpy as np\n",
    "from sklearn.neighbors import NearestNeighbors"
   ]
  },
  {
   "cell_type": "code",
   "execution_count": 9,
   "metadata": {},
   "outputs": [],
   "source": [
    "def classify_examples(X: np.ndarray, Y: np.ndarray, k: int = 3):\n",
    "    \"\"\"\n",
    "    Classify examples as noisy or safe based on their k nearest neigbors.\n",
    "\n",
    "    Args:\n",
    "        X (numpy.ndarray): The feature matrix of shape (n_samples, n_features).\n",
    "        Y (numpy.ndarray): The target labels of shape(n_samples,).\n",
    "        k (int, optional): The number of nearest neighbors to consider, defaults to 3.\n",
    "    \n",
    "    Returns:\n",
    "        numpy.ndarray: An array of flags indicating the type of each example (0 for safe, 1 for noisy).\n",
    "    \"\"\"\n",
    "    n_samples = X.shape[0]\n",
    "    flags = np.zeros(n_samples, dtype=int)  # Intialize flags for all examples as safe\n",
    "\n",
    "    # Fit a k-nearest neighbors model\n",
    "    nn = NearestNeighbors(n_neighbors=k)\n",
    "    nn.fit(X)\n",
    "\n",
    "    for i in range(n_samples):\n",
    "        example = X[i]\n",
    "        label = Y[i]\n",
    "\n",
    "        # Find the indices of the k nearest neigbors\n",
    "        indices = nn.kneighbors([example], return_distance=False)\n",
    "\n",
    "        # Exclude the current example itself from the neigbors\n",
    "        neighbors_indices = indices[0][1:]\n",
    "\n",
    "        # Check if the majority of neighbors have the same label as the current example\n",
    "        if np.sum(Y[neighbors_indices] == label) >= k // 2:\n",
    "            flags[i] = 0    # Set flag as safe\n",
    "        else:\n",
    "            flags[i] = 1    # Set flag as noisy\n",
    "    return flags"
   ]
  },
  {
   "cell_type": "code",
   "execution_count": 10,
   "metadata": {},
   "outputs": [
    {
     "data": {
      "text/plain": [
       "array([1, 0, 0, 0])"
      ]
     },
     "execution_count": 10,
     "metadata": {},
     "output_type": "execute_result"
    }
   ],
   "source": [
    "\n",
    "X = np.array([[1, 2], [3, 4], [5, 6], [7, 8]])\n",
    "y = np.array([0, 1, 1, 1])\n",
    "classify_examples(X, y, k=3)"
   ]
  },
  {
   "cell_type": "code",
   "execution_count": 11,
   "metadata": {},
   "outputs": [],
   "source": [
    "def find_knn_indices(k, majority_class, example, safe_noisy_class, flags, Y, X):\n",
    "    \"\"\"\n",
    "    Find the indices of the safe examples among its k nearest neigbors.\n",
    "\n",
    "    Args:\n",
    "        k (int): The number of nearest neigbors to consider.\n",
    "        majority_class (int): The label of the majority class.\n",
    "        example (np.ndarray): The example for which to find the nearest neigbors.\n",
    "        safe_noisy_class (int): The class type (0 for safe, 1 for noisy) to consider.\n",
    "        flags (np.ndarray): The flags indicating the type of each example (0 for safe, 1 for noisy).\n",
    "        Y (np.ndarray): The target labels of shape (n_samples,)\n",
    "        X (np.ndarray): The feature matrix of shape (n_samples, n_features).\n",
    "\n",
    "    Returns:\n",
    "        np.ndarray: The indices of the safe examples among its k nearest neigbors.\n",
    "    \"\"\"\n",
    "    # Find the indices of the safe examples among its k nearest neigbors\n",
    "    safe_indices = np.where((flags == safe_noisy_class) and (Y == majority_class))[0]\n",
    "\n",
    "    # Calculate distances between the example and safe examples\n",
    "    distances = []\n",
    "    for safe_ind in safe_indices:\n",
    "        distances.append(np.linalg.norm(X[safe_ind] - example))\n",
    "\n",
    "    # Combine distances and indices\n",
    "    combined = zip(distances, safe_indices)\n",
    "\n",
    "    # Sort the combined list based on distances\n",
    "    sorted_combined = sorted(combined)\n",
    "    sorted_distances, sorted_indices = zip(*sorted_combined)\n",
    "\n",
    "    # Get the indices of the k nearest neigbors\n",
    "    knn_indices = sorted_indices[:k]\n",
    "    return knn_indices[:k]\n",
    "    "
   ]
  },
  {
   "cell_type": "code",
   "execution_count": 12,
   "metadata": {},
   "outputs": [],
   "source": [
    "def weak_amplification(X, Y, flags):\n",
    "    \"\"\"\n",
    "    Performs weak amplification by creating copies of noisy examples.\n",
    "\n",
    "    Args:\n",
    "        X (numpy.ndarray): The feature matrix of shape (n_samples, n_features).\n",
    "        Y (numpy.ndarray): The target labels of shape (n_samples,).\n",
    "        flags (numpy.ndarray): The flags indicating the type of each example (0 for safe, 1 for noisy).\n",
    "\n",
    "    Returns:\n",
    "        numpy.ndarray: The updated feature matrix after amplification.\n",
    "        numpy.ndarray: The updated target labels after amplification.\n",
    "    \"\"\"\n",
    "    n_samples = X.shape[0]\n",
    "    new_X = X.copy()\n",
    "    new_y = Y.copy()"
   ]
  }
 ],
 "metadata": {
  "kernelspec": {
   "display_name": "Python 3",
   "language": "python",
   "name": "python3"
  },
  "language_info": {
   "codemirror_mode": {
    "name": "ipython",
    "version": 3
   },
   "file_extension": ".py",
   "mimetype": "text/x-python",
   "name": "python",
   "nbconvert_exporter": "python",
   "pygments_lexer": "ipython3",
   "version": "3.10.5"
  },
  "orig_nbformat": 4
 },
 "nbformat": 4,
 "nbformat_minor": 2
}
